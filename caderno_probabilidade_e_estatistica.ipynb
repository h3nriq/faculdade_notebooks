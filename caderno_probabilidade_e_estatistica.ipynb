{
 "cells": [
  {
   "cell_type": "markdown",
   "metadata": {},
   "source": [
    "# Caderno de Probabilidade e Estatística"
   ]
  },
  {
   "cell_type": "code",
   "execution_count": 1,
   "metadata": {},
   "outputs": [],
   "source": [
    "import pandas as pd\n",
    "import numpy as np"
   ]
  },
  {
   "cell_type": "markdown",
   "metadata": {},
   "source": [
    "## Teorico III: Média, Moda e Mediana"
   ]
  },
  {
   "cell_type": "markdown",
   "metadata": {},
   "source": [
    "Um lote é composto por 12 unidades. Lote deve ter no mínimo 50kg para ser aceito.\n",
    "\n",
    "Um lote com as unidades em kilos {2.8, 4, 4.2, 5, 3.5, 4, 5.5, 4, 5, 7, 4}\n",
    "\n",
    "Este lote será aceito?\n",
    "Qual o peso médio do lote?"
   ]
  },
  {
   "cell_type": "code",
   "execution_count": 15,
   "metadata": {},
   "outputs": [],
   "source": [
    "def soma_media(unidades_kilo):\n",
    "    soma_lote = sum(unidades_kilo)\n",
    "    media_lote = soma_lote/len(unidades_kilo)\n",
    "\n",
    "    return round(soma_lote), round(media_lote)"
   ]
  },
  {
   "cell_type": "code",
   "execution_count": 16,
   "metadata": {},
   "outputs": [
    {
     "data": {
      "text/plain": [
       "(49, 4)"
      ]
     },
     "execution_count": 16,
     "metadata": {},
     "output_type": "execute_result"
    }
   ],
   "source": [
    "unidades_kilo = (2.8, 4, 4.2, 5, 3.5, 4, 5.5, 4, 5, 7, 4)\n",
    "\n",
    "soma_media(unidades_kilo)"
   ]
  },
  {
   "cell_type": "markdown",
   "metadata": {},
   "source": [
    "Calcule a moda de distribuição de valores de 54 notas fiscais emitidas na mesma data"
   ]
  },
  {
   "cell_type": "code",
   "execution_count": 13,
   "metadata": {},
   "outputs": [],
   "source": [
    "def calcular_moda_czuber(df, col_frequencia, col_intervalo, intervalo_h):\n",
    "    classe_modal_index = df[col_frequencia].idxmax()\n",
    "    L = float(df[col_intervalo][classe_modal_index].split('-')[0])\n",
    "\n",
    "    if classe_modal_index > 0:\n",
    "        d1 = df[col_frequencia][classe_modal_index] - df[col_frequencia][classe_modal_index - 1]\n",
    "    else:\n",
    "        d1 = 0 \n",
    "\n",
    "    if classe_modal_index < len(df[col_frequencia]) - 1:\n",
    "        d2 = df[col_frequencia][classe_modal_index] - df[col_frequencia][classe_modal_index + 1]\n",
    "    else:\n",
    "        d2 = 0  \n",
    "\n",
    "    # Calcular a moda usando a fórmula de Czuber\n",
    "    moda = L + (d1 / (d1 + d2)) * intervalo_h\n",
    "    return moda\n"
   ]
  },
  {
   "cell_type": "code",
   "execution_count": 14,
   "metadata": {},
   "outputs": [
    {
     "name": "stdout",
     "output_type": "stream",
     "text": [
      "A moda calculada é: 76.47\n"
     ]
    }
   ],
   "source": [
    "# Dados de exemplo\n",
    "data = {\n",
    "    'Classes': [1, 2, 3, 4, 5, 6],\n",
    "    'Consumo por nota R$': ['0-50', '50-100', '100-150', '150-200', '200-250', '250-300'],\n",
    "    'Número de notas': [10, 28, 12, 2, 1, 1]\n",
    "}\n",
    "df = pd.DataFrame(data)\n",
    "\n",
    "# Calcular a moda\n",
    "moda_calculada = calcular_moda_czuber(df, 'Número de notas', 'Consumo por nota R$', 50)\n",
    "print(\"A moda calculada é:\", round(moda_calculada, 2))"
   ]
  },
  {
   "cell_type": "markdown",
   "metadata": {},
   "source": [
    "Calcule a mediana para a Série representativa da idade de 50 alunos de uma classe no 1° ano"
   ]
  },
  {
   "cell_type": "code",
   "execution_count": 17,
   "metadata": {},
   "outputs": [],
   "source": [
    "def calcular_mediana(df):\n",
    "    idades_expandidas = np.repeat(df['Idade (anos) xi'], df['Número de alunos fi'])\n",
    "    mediana_np = np.median(idades_expandidas)\n",
    "    return mediana_np"
   ]
  },
  {
   "cell_type": "code",
   "execution_count": 18,
   "metadata": {},
   "outputs": [
    {
     "data": {
      "text/plain": [
       "19.0"
      ]
     },
     "execution_count": 18,
     "metadata": {},
     "output_type": "execute_result"
    }
   ],
   "source": [
    "alunos = {\n",
    "    'Idade (anos) xi': [17, 18, 19, 20, 21],\n",
    "    'Número de alunos fi': [3, 18, 17, 8, 4]\n",
    "}\n",
    "\n",
    "df = pd.DataFrame(alunos)\n",
    "calcular_mediana(df)"
   ]
  },
  {
   "cell_type": "markdown",
   "metadata": {},
   "source": [
    "A distribuição a seguir representa o número de acidentes de trabalho, por dia, em uma Indústria Siderúrgica, verificados durante um mês."
   ]
  },
  {
   "cell_type": "code",
   "execution_count": 25,
   "metadata": {},
   "outputs": [
    {
     "data": {
      "text/plain": [
       "0.0"
      ]
     },
     "execution_count": 25,
     "metadata": {},
     "output_type": "execute_result"
    }
   ],
   "source": [
    "# Dados de exemplo\n",
    "data = {\n",
    "    'Classes': [1, 2, 3, 4],\n",
    "    'Numero Acidentes': ['0-2', '2-4', '4-6', '6-8'],\n",
    "    'Número de dias': [20, 6, 3, 1]\n",
    "}\n",
    "df = pd.DataFrame(data)\n",
    "\n",
    "# Definir a amplitude dos intervalos de classe (assumindo intervalos iguais e baseando-se na diferença entre dois limites)\n",
    "intervalo_h = float(df['Numero Acidentes'][0].split('-')[1]) - float(df['Numero Acidentes'][0].split('-')[0])\n",
    "\n",
    "# Calcular a moda\n",
    "calcular_moda_czuber(df, 'Número de dias', 'Numero Acidentes', intervalo_h)"
   ]
  },
  {
   "cell_type": "markdown",
   "metadata": {},
   "source": [
    "Um caminhão cujo peso vazio é 3.000 kg será carregado com 480 caixas de 10 kg cada, 350 caixas de 8 kg cada, 500 caixas de 4 kg cada e 800 caixas de 5 kg cada. O motorista do caminhão pesa 80 kg e a lona de cobertura da carga pesa 50 kg.\n",
    "\n",
    "I) Se esse caminhão tem de passar por uma balança que só permite passagens a caminhões com peso máximo de 15 toneladas, esse caminhão passará pela balança?.\n",
    "\n",
    "II) Qual o peso médio das caixas carregadas no caminhão?\n",
    "\n",
    "Assinale a alternativa CORRETA."
   ]
  },
  {
   "cell_type": "code",
   "execution_count": 46,
   "metadata": {},
   "outputs": [
    {
     "name": "stdout",
     "output_type": "stream",
     "text": [
      "Resposta I: Não Passou. Resposta II: 6.385\n"
     ]
    }
   ],
   "source": [
    "caminhao = 3000\n",
    "motorista = 80\n",
    "cobertura_caminhao = 50\n",
    "caixa_peso = [10, 8, 4, 5]\n",
    "caixa_qnt = [480, 350, 500, 800]\n",
    "\n",
    "# Resposta I\n",
    "peso_caixas = sum([cp * cq  for cp, cq in zip(caixa_peso, caixa_qnt)])\n",
    "peso_total_caminhao = peso_caixas + caminhao + motorista + cobertura_caminhao\n",
    "\n",
    "if peso_total_caminhao > 15000:\n",
    "    peso = \"Não Passou\"\n",
    "else:\n",
    "    peso = \"Passou\"\n",
    "\n",
    "# Resposta II\n",
    "\n",
    "total_caixas = sum(caixa_qnt)\n",
    "media = peso_caixas/total_caixas\n",
    "\n",
    "print(f\"Resposta I: {peso}. Resposta II: {round(media, 3)}\")"
   ]
  },
  {
   "cell_type": "markdown",
   "metadata": {},
   "source": [
    "O salário de 40 funcionários de um escritório está distribuído segundo o quadro a seguir. Calcule o salário médio desses funcionários e assinale a alternativa CORRETA:"
   ]
  },
  {
   "cell_type": "code",
   "execution_count": 39,
   "metadata": {},
   "outputs": [
    {
     "name": "stdout",
     "output_type": "stream",
     "text": [
      "O salário médio é: R$ 572.50\n"
     ]
    }
   ],
   "source": [
    "limites_inferiores = [400, 500, 600, 700, 800, 900]\n",
    "limites_superiores = [500, 600, 700, 800, 900, 1000]\n",
    "funcionarios_por_classe = [12, 15, 8, 3, 1, 1]\n",
    "\n",
    "pontos_medios = [(inf + sup) / 2 for inf, sup in zip(limites_inferiores, limites_superiores)]\n",
    "contribuicoes = [pm * num for pm, num in zip(pontos_medios, funcionarios_por_classe)]\n",
    "\n",
    "total_contribuicoes = sum(contribuicoes)\n",
    "total_funcionarios = sum(funcionarios_por_classe)\n",
    "\n",
    "salario_medio = total_contribuicoes / total_funcionarios\n",
    "\n",
    "print(f\"O salário médio é: R$ {salario_medio:.2f}\")"
   ]
  }
 ],
 "metadata": {
  "kernelspec": {
   "display_name": "ds",
   "language": "python",
   "name": "python3"
  },
  "language_info": {
   "codemirror_mode": {
    "name": "ipython",
    "version": 3
   },
   "file_extension": ".py",
   "mimetype": "text/x-python",
   "name": "python",
   "nbconvert_exporter": "python",
   "pygments_lexer": "ipython3",
   "version": "3.11.7"
  }
 },
 "nbformat": 4,
 "nbformat_minor": 2
}
